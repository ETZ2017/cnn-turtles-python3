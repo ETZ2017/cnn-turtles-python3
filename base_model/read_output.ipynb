{
 "cells": [
  {
   "cell_type": "code",
   "execution_count": 44,
   "metadata": {},
   "outputs": [],
   "source": [
    "from os.path import dirname, join as pjoin\n",
    "import scipy.io as sio\n",
    "import mat73\n",
    "\n",
    "mat_contents = mat73.loadmat('./DukeTurtle_test.mat')\n",
    "mat_contents_out = sio.loadmat('./DukeTurtle_test_cnnClass.mat')"
   ]
  },
  {
   "cell_type": "code",
   "execution_count": 45,
   "metadata": {},
   "outputs": [
    {
     "name": "stdout",
     "output_type": "stream",
     "text": [
      "['features', 'labelNames', 'labels'] \n",
      " ['__globals__', '__header__', '__version__', 'clab', 'p']\n"
     ]
    }
   ],
   "source": [
    "print(sorted(mat_contents.keys()), '\\n', sorted(mat_contents_out.keys()))"
   ]
  },
  {
   "cell_type": "code",
   "execution_count": 46,
   "metadata": {},
   "outputs": [
    {
     "name": "stdout",
     "output_type": "stream",
     "text": [
      "__header__ :  b'MATLAB 5.0 MAT-file Platform: posix, Created on: Mon Nov 20 17:14:13 2023'\n",
      "__version__ :  1.0\n",
      "__globals__ :  []\n",
      "p :  [[0.5002727  0.4997273 ]\n",
      " [0.50087184 0.49912816]\n",
      " [0.49994725 0.50005275]\n",
      " ...\n",
      " [0.5007624  0.4992376 ]\n",
      " [0.50035626 0.49964374]\n",
      " [0.50132316 0.49867687]]\n",
      "clab :  ['0             ' 'Certain Turtle']\n"
     ]
    }
   ],
   "source": [
    "for key in mat_contents_out.keys():\n",
    "    print(key, \": \", mat_contents_out[key])    "
   ]
  },
  {
   "cell_type": "code",
   "execution_count": 47,
   "metadata": {},
   "outputs": [
    {
     "name": "stdout",
     "output_type": "stream",
     "text": [
      "1564 1564\n"
     ]
    }
   ],
   "source": [
    "print(len(mat_contents['labels']),  len(mat_contents_out['p']))"
   ]
  },
  {
   "cell_type": "markdown",
   "metadata": {},
   "source": [
    "This gives us understanding about what exact columns we have to compare. Input data consists of 1564 images-labels, output for each image after running it through CNN is the probability of that image containing a turtle that is stored in the probability array."
   ]
  },
  {
   "cell_type": "code",
   "execution_count": 48,
   "metadata": {},
   "outputs": [
    {
     "data": {
      "text/plain": [
       "array([[0.5002727 , 0.4997273 ],\n",
       "       [0.50087184, 0.49912816],\n",
       "       [0.49994725, 0.50005275],\n",
       "       ...,\n",
       "       [0.5007624 , 0.4992376 ],\n",
       "       [0.50035626, 0.49964374],\n",
       "       [0.50132316, 0.49867687]], dtype=float32)"
      ]
     },
     "execution_count": 48,
     "metadata": {},
     "output_type": "execute_result"
    }
   ],
   "source": [
    "mat_contents_out['p']"
   ]
  },
  {
   "cell_type": "code",
   "execution_count": 58,
   "metadata": {},
   "outputs": [],
   "source": [
    "from sklearn.metrics import accuracy_score, precision_score, recall_score, f1_score, confusion_matrix, ConfusionMatrixDisplay\n",
    "import matplotlib.pyplot as plt\n",
    "\n",
    "def evaluate_model(target, prediction):\n",
    "    \"\"\"\n",
    "    Evaluate a machine learning model.\n",
    "\n",
    "    Parameters:\n",
    "    - target: original labels\n",
    "    - prediction: output of the model\n",
    "\n",
    "    Returns:\n",
    "    - Dictionary containing various evaluation metrics\n",
    "    \"\"\"\n",
    "\n",
    "    # Calculate evaluation metrics\n",
    "    accuracy = accuracy_score(target, prediction)\n",
    "    precision = precision_score(target, prediction)\n",
    "    recall = recall_score(target, prediction)\n",
    "    f1 = f1_score(target, prediction)\n",
    "    confusion_mat = confusion_matrix(target, prediction)\n",
    "\n",
    "    # Create a dictionary to store the results\n",
    "    evaluation_results = {\n",
    "        'Accuracy': accuracy,\n",
    "        'Precision': precision,\n",
    "        'Recall': recall,\n",
    "        'F1 Score': f1,\n",
    "        'Confusion Matrix': confusion_mat\n",
    "    }\n",
    "\n",
    "    # Print or log the results\n",
    "    print(\"Evaluation Results:\")\n",
    "    for metric, value in evaluation_results.items():\n",
    "        if metric == 'Confusion Matrix':\n",
    "            disp = ConfusionMatrixDisplay(confusion_matrix=value, display_labels=[0, 1])\n",
    "            disp.plot()\n",
    "            plt.show()\n",
    "        else:\n",
    "            print(f\"{metric}: {value}\")    \n",
    "\n",
    "\n",
    "    return evaluation_results"
   ]
  },
  {
   "cell_type": "code",
   "execution_count": 59,
   "metadata": {},
   "outputs": [
    {
     "name": "stdout",
     "output_type": "stream",
     "text": [
      "Evaluation Results:\n",
      "Accuracy: 0.8797953964194374\n",
      "Precision: 0.07317073170731707\n",
      "Recall: 0.0196078431372549\n",
      "F1 Score: 0.03092783505154639\n"
     ]
    },
    {
     "data": {
      "image/png": "[encoded data removed]",
      "text/plain": [
       "<Figure size 640x480 with 2 Axes>"
      ]
     },
     "metadata": {},
     "output_type": "display_data"
    }
   ],
   "source": [
    "final_labels = []\n",
    "for p_values in mat_contents_out['p']:\n",
    "    if p_values[1] > p_values[0]:\n",
    "        final_labels.append(1)\n",
    "    else:\n",
    "        final_labels.append(0)   \n",
    "\n",
    "evaluation_results = evaluate_model(mat_contents['labels'], final_labels)            "
   ]
  },
  {
   "cell_type": "markdown",
   "metadata": {},
   "source": [
    "This output has allowed us to formulate initial assumptions and hypothesis about how we could improve existing solution without \"reinventing the bicycle\". After passing binary containing information about the data through the pretrained model, we were able to see that obtained results are similar to the ones described in the paper, although precision and recall are much lower than the final results mentioned.\n",
    "\n",
    "This allowed us to formulate three hypothesis on how we could improve result of this research to target our goals:\n",
    "<br>\n",
    "1\\) **Coping with data imbalance**: Applying well-known techniques to the existing model without the need to change the architecture of it could have a feasible impact on the results (data augmentation, weighted loss function, label smoothing and cleaning, model regularization and evaluation)\n",
    "<br>\n",
    "2\\) **Architecture improvements**: Modifying the architecture of existing CNN in a way that it is more focused on the small object detection tasks (Smart downsampling using \"Projector Network\"; YOLO with scaling, convolution dilation with avoidance of pooling layers)\n",
    "<br>\n",
    "3\\) **State of the art 2023**: Verifying the results that can be achieved using a state-of-the-art image segmentation model that aims to change the field of computer vision - Segment Anything Model (SAM)"
   ]
  }
 ],
 "metadata": {
  "kernelspec": {
   "display_name": "ai_701",
   "language": "python",
   "name": "python3"
  },
  "language_info": {
   "codemirror_mode": {
    "name": "ipython",
    "version": 3
   },
   "file_extension": ".py",
   "mimetype": "text/x-python",
   "name": "python",
   "nbconvert_exporter": "python",
   "pygments_lexer": "ipython3",
   "version": "3.9.18"
  },
  "orig_nbformat": 4
 },
 "nbformat": 4,
 "nbformat_minor": 2
}
